{
 "cells": [
  {
   "cell_type": "code",
   "execution_count": 1,
   "metadata": {},
   "outputs": [],
   "source": [
    "from xgboost import XGBClassifier\n",
    "import pandas as pd\n",
    "import numpy as np\n"
   ]
  },
  {
   "cell_type": "code",
   "execution_count": 2,
   "metadata": {},
   "outputs": [],
   "source": [
    "features = [\n",
    "    'age',\n",
    "    'diag_Urinary tract infection, site not specified',\n",
    "    'diag_F10',\n",
    "    'diag_Type 2 diabetes mellitus without (mention of) complications',\n",
    "    'lab_Sodium (Moles/volume) in Serum or Plasma',\n",
    "    'lab_Bilirubin.total (Moles/volume) in Serum or Plasma',\n",
    "    'diag_Gastrointestinal haemorrhage, unspecified',\n",
    "    'diag_Acute pancreatitis, unspecified',\n",
    "    'diag_Tendency to fall, not elsewhere classified',\n",
    "    'diag_Hepatic failure, unspecified',\n",
    "    'diag_Schizophrenia, unspecified',\n",
    "    'diag_Cachexia',\n",
    "    'diag_Other and unspecified convulsions',\n",
    "    'diag_Epilepsy, unspecified, not stated as intractable',\n",
    "    'diag_Dyspnoea'\n",
    "]\n",
    "\n",
    "short_names = [\n",
    "    'Age',\n",
    "    'UTI',\n",
    "    'Alcohol',\n",
    "    'Type 2 Diabetes',\n",
    "    'Sodium (Moles/volume)',\n",
    "    'Bilirubin (Moles/volume)',\n",
    "    'GI bleed',\n",
    "    'Acute Pancreatitis',\n",
    "    'Falls',\n",
    "    'Hepatic Failure',\n",
    "    'Schizophrenia',\n",
    "    'Cachexia',\n",
    "    'Convulsions',\n",
    "    'Epilepsy',\n",
    "    'Dyspnoea'\n",
    "]\n",
    "\n",
    "df = pd.DataFrame(columns=features)\n",
    "\n",
    "n_samples = 1000\n",
    "\n",
    "df['age'] = np.random.randint(18,113, size=n_samples)\n",
    "df['lab_Sodium (Moles/volume) in Serum or Plasma'] = np.random.uniform(100, 200, size=n_samples)\n",
    "df['lab_Bilirubin.total (Moles/volume) in Serum or Plasma'] = np.random.uniform(0.1, 2, size=n_samples)\n",
    "for col in df.columns:\n",
    "    if col.startswith('diag_'):\n",
    "        df[col] = np.random.randint(0,2, size=n_samples)\n",
    "\n",
    "X = df[features]\n",
    "y = np.random.randint(0, 2, size=n_samples)\n",
    "\n",
    "clf = XGBClassifier()\n",
    "clf.fit(X, y)\n",
    "\n",
    "\n",
    "import pickle \n",
    "\n",
    "with open(\"xgb_model.pkl\", \"wb\") as f:\n",
    "    pickle.dump(clf, f)\n",
    "\n",
    "with open(\"feature_list.pkl\", \"wb\") as f:\n",
    "    pickle.dump(features, f)\n",
    "\n",
    "with open(\"short_names.pkl\", \"wb\") as f:\n",
    "    pickle.dump(short_names, f)\n"
   ]
  },
  {
   "cell_type": "markdown",
   "metadata": {},
   "source": []
  },
  {
   "cell_type": "code",
   "execution_count": null,
   "metadata": {},
   "outputs": [],
   "source": []
  },
  {
   "cell_type": "code",
   "execution_count": 3,
   "metadata": {},
   "outputs": [
    {
     "data": {
      "text/plain": [
       "age                                                                   int64\n",
       "diag_Urinary tract infection, site not specified                      int64\n",
       "diag_F10                                                              int64\n",
       "diag_Type 2 diabetes mellitus without (mention of) complications      int64\n",
       "lab_Sodium (Moles/volume) in Serum or Plasma                        float64\n",
       "lab_Bilirubin.total (Moles/volume) in Serum or Plasma               float64\n",
       "diag_Gastrointestinal haemorrhage, unspecified                        int64\n",
       "diag_Acute pancreatitis, unspecified                                  int64\n",
       "diag_Tendency to fall, not elsewhere classified                       int64\n",
       "diag_Hepatic failure, unspecified                                     int64\n",
       "diag_Schizophrenia, unspecified                                       int64\n",
       "diag_Cachexia                                                         int64\n",
       "diag_Other and unspecified convulsions                                int64\n",
       "diag_Epilepsy, unspecified, not stated as intractable                 int64\n",
       "diag_Dyspnoea                                                         int64\n",
       "dtype: object"
      ]
     },
     "execution_count": 3,
     "metadata": {},
     "output_type": "execute_result"
    }
   ],
   "source": [
    "df.dtypes"
   ]
  },
  {
   "cell_type": "code",
   "execution_count": null,
   "metadata": {},
   "outputs": [],
   "source": []
  }
 ],
 "metadata": {
  "kernelspec": {
   "display_name": "gemini_calc",
   "language": "python",
   "name": "python3"
  },
  "language_info": {
   "codemirror_mode": {
    "name": "ipython",
    "version": 3
   },
   "file_extension": ".py",
   "mimetype": "text/x-python",
   "name": "python",
   "nbconvert_exporter": "python",
   "pygments_lexer": "ipython3",
   "version": "3.11.11"
  }
 },
 "nbformat": 4,
 "nbformat_minor": 2
}
